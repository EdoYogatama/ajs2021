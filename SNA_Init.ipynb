{
 "cells": [
  {
   "cell_type": "markdown",
   "id": "91279497",
   "metadata": {},
   "source": [
    "## Rumusan Masalah\n",
    "- Menggunakan Closenes Centrality untuk mencari kedekatan antar user yang memiliki ketertarikan sama mengenai vaksin, dan diasumsikan dalam kedekatan tersebut sekolompok user memiliki ego atau opini yang sama mengenai vaksin\n",
    "- Mencari user yang reply tweet dari @infoJakarta, dan dilakukan penyelidikan lanjut kepada user terbut dengan mencari kata kunci yang sama, dan melihat apakah terdapat user yang sama yang terhubung dengan @infoJakarta\n",
    "- Selain itu juga mengidentifikasi ego dari kelompok yang didapat, apakah mendukunga atau mengkritik"
   ]
  },
  {
   "cell_type": "code",
   "execution_count": null,
   "id": "3371cdf9",
   "metadata": {},
   "outputs": [],
   "source": [
    "import sys\n",
    "!{sys.executable} -m pip install twint\n",
    "!{sys.executable} -m pip install nest_asyncio\n",
    "!{sys.executable} -m pip install pandas\n",
    "!{sys.executable} -m pip install networkx"
   ]
  },
  {
   "cell_type": "code",
   "execution_count": 1,
   "id": "2d178bc0",
   "metadata": {},
   "outputs": [],
   "source": [
    "import twint\n",
    "import nest_asyncio\n",
    "import pandas as pd\n",
    "import json\n",
    "import networkx as nx\n",
    "import matplotlib.pyplot as plt\n",
    "import matplotlib.colors as mcolors\n",
    "\n",
    "nest_asyncio.apply()"
   ]
  },
  {
   "cell_type": "markdown",
   "id": "c099f9a9",
   "metadata": {},
   "source": [
    "## Before Vaccine"
   ]
  },
  {
   "cell_type": "code",
   "execution_count": 3,
   "id": "5da346fc",
   "metadata": {},
   "outputs": [
    {
     "name": "stdout",
     "output_type": "stream",
     "text": [
      "[!] No more data! Scraping will stop now.\n",
      "found 0 deleted tweets in this search.\n",
      "[+] Finished: Successfully collected 8 Tweets from @infoJakarta.\n",
      "[!] No more data! Scraping will stop now.\n",
      "found 0 deleted tweets in this search.\n",
      "[+] Finished: Successfully collected 11 Tweets from @infoJakarta.\n"
     ]
    }
   ],
   "source": [
    "c = twint.Config()\n",
    "c.Username = 'infoJakarta'\n",
    "c.Since = \"2020-08-01\" #batas awal tanggal pengambilan tweet\n",
    "c.Until = \"2021-01-31\" #batas akhir tanggal pengambilan tweet\n",
    "c.Count = True         \n",
    "c.Retweets = True\n",
    "c.Stats = True \n",
    "c.Show_hashtags = True\n",
    "c.Hide_output = True\n",
    "c.Profile_full = True\n",
    "c.Store_json = True\n",
    "for key in ['vaksin', 'covid']:\n",
    "    c.Search = key\n",
    "    c.Output = './data/before.json' # save to json\n",
    "    twint.run.Search(c)"
   ]
  },
  {
   "cell_type": "markdown",
   "id": "9a869b88",
   "metadata": {},
   "source": [
    "## After Vaccine"
   ]
  },
  {
   "cell_type": "code",
   "execution_count": 4,
   "id": "0f8d425f",
   "metadata": {},
   "outputs": [
    {
     "name": "stdout",
     "output_type": "stream",
     "text": [
      "[!] No more data! Scraping will stop now.\n",
      "found 0 deleted tweets in this search.\n",
      "[+] Finished: Successfully collected 8 Tweets from @infoJakarta.\n",
      "[!] No more data! Scraping will stop now.\n",
      "found 0 deleted tweets in this search.\n",
      "[+] Finished: Successfully collected 11 Tweets from @infoJakarta.\n"
     ]
    }
   ],
   "source": [
    "c = twint.Config()\n",
    "c.Username = 'infoJakarta'\n",
    "c.Since = \"2021-02-01\" #batas awal tanggal pengambilan tweet\n",
    "c.Count = True         \n",
    "c.Retweets = True\n",
    "c.Stats = True \n",
    "c.Show_hashtags = True\n",
    "c.Hide_output = True\n",
    "c.Profile_full = True\n",
    "c.Store_json = True\n",
    "for key in ['vaksin', 'covid']:\n",
    "    c.Search = key\n",
    "    c.Output = './data/after.json' # save to json\n",
    "    twint.run.Search(c)"
   ]
  },
  {
   "cell_type": "code",
   "execution_count": 2,
   "id": "6997b9a3",
   "metadata": {},
   "outputs": [
    {
     "ename": "NameError",
     "evalue": "name 'pd' is not defined",
     "output_type": "error",
     "traceback": [
      "\u001b[0;31m---------------------------------------------------------------------------\u001b[0m",
      "\u001b[0;31mNameError\u001b[0m                                 Traceback (most recent call last)",
      "\u001b[0;32m<ipython-input-2-be51d50bf4ac>\u001b[0m in \u001b[0;36m<module>\u001b[0;34m\u001b[0m\n\u001b[0;32m----> 1\u001b[0;31m \u001b[0mdf_before\u001b[0m \u001b[0;34m=\u001b[0m \u001b[0mpd\u001b[0m\u001b[0;34m.\u001b[0m\u001b[0mread_json\u001b[0m\u001b[0;34m(\u001b[0m\u001b[0;34m'./data/before.json'\u001b[0m \u001b[0;34m,\u001b[0m \u001b[0mlines\u001b[0m \u001b[0;34m=\u001b[0m \u001b[0;32mTrue\u001b[0m\u001b[0;34m)\u001b[0m\u001b[0;34m\u001b[0m\u001b[0;34m\u001b[0m\u001b[0m\n\u001b[0m\u001b[1;32m      2\u001b[0m \u001b[0mdf_after\u001b[0m \u001b[0;34m=\u001b[0m \u001b[0mpd\u001b[0m\u001b[0;34m.\u001b[0m\u001b[0mread_json\u001b[0m\u001b[0;34m(\u001b[0m\u001b[0;34m'./data/after.json'\u001b[0m \u001b[0;34m,\u001b[0m \u001b[0mlines\u001b[0m \u001b[0;34m=\u001b[0m \u001b[0;32mTrue\u001b[0m\u001b[0;34m)\u001b[0m\u001b[0;34m\u001b[0m\u001b[0;34m\u001b[0m\u001b[0m\n",
      "\u001b[0;31mNameError\u001b[0m: name 'pd' is not defined"
     ]
    }
   ],
   "source": [
    "df_before = pd.read_json('./data/before.json' , lines = True)\n",
    "df_after = pd.read_json('./data/after.json' , lines = True)"
   ]
  },
  {
   "cell_type": "code",
   "execution_count": 1,
   "id": "1b8dc23d",
   "metadata": {},
   "outputs": [
    {
     "ename": "NameError",
     "evalue": "name 'df_before' is not defined",
     "output_type": "error",
     "traceback": [
      "\u001b[0;31m---------------------------------------------------------------------------\u001b[0m",
      "\u001b[0;31mNameError\u001b[0m                                 Traceback (most recent call last)",
      "\u001b[0;32m<ipython-input-1-61fe74ce19a1>\u001b[0m in \u001b[0;36m<module>\u001b[0;34m\u001b[0m\n\u001b[0;32m----> 1\u001b[0;31m df_before = df_before[['id', 'conversation_id', 'user_id', 'username', 'name','tweet','replies_count', 'retweets_count', 'likes_count',\n\u001b[0m\u001b[1;32m      2\u001b[0m        'hashtags', 'cashtags', 'link', 'retweet', 'quote_url','user_rt_id', 'user_rt', 'retweet_id', 'reply_to']]\n\u001b[1;32m      3\u001b[0m \u001b[0;34m\u001b[0m\u001b[0m\n\u001b[1;32m      4\u001b[0m \u001b[0mdf_before\u001b[0m\u001b[0;34m.\u001b[0m\u001b[0mdrop_duplicates\u001b[0m\u001b[0;34m(\u001b[0m\u001b[0msubset\u001b[0m\u001b[0;34m=\u001b[0m\u001b[0;34m'link'\u001b[0m\u001b[0;34m)\u001b[0m\u001b[0;34m\u001b[0m\u001b[0;34m\u001b[0m\u001b[0m\n",
      "\u001b[0;31mNameError\u001b[0m: name 'df_before' is not defined"
     ]
    }
   ],
   "source": [
    "df_before = df_before[['id', 'conversation_id', 'user_id', 'username', 'name','tweet','replies_count', 'retweets_count', 'likes_count',\n",
    "       'hashtags', 'cashtags', 'link', 'retweet', 'quote_url','user_rt_id', 'user_rt', 'retweet_id', 'reply_to']]\n",
    "\n",
    "df_before"
   ]
  },
  {
   "cell_type": "code",
   "execution_count": null,
   "id": "bb3ff333",
   "metadata": {},
   "outputs": [],
   "source": [
    "import sys\n",
    "!{sys.executable} -m pip install selenium"
   ]
  },
  {
   "cell_type": "code",
   "execution_count": null,
   "id": "9a03b2bc",
   "metadata": {},
   "outputs": [],
   "source": [
    "from getpass import getpass\n",
    "from time import sleep\n",
    "from selenium.webdriver.common.keys import Keys\n",
    "# from selenium.common.exceptions import NoSuchElementException\n",
    "from selenium import webdriver\n",
    "import numpy as np\n",
    "from datetime import datetime, timedelta"
   ]
  },
  {
   "cell_type": "code",
   "execution_count": null,
   "id": "d7f3012c",
   "metadata": {},
   "outputs": [],
   "source": [
    "chrome_options = webdriver.ChromeOptions()\n",
    "prefs = {\"profile.default_content_setting_values.notifications\" : 2}\n",
    "chrome_options.add_experimental_option(\"prefs\",prefs)\n",
    "# chrome_options.add_argument('headless') # untuk menutup browser\n",
    "\n",
    "#specify the path to chromedriver.exe\n",
    "driver = webdriver.Chrome('./chromedriver',chrome_options=chrome_options)"
   ]
  },
  {
   "cell_type": "code",
   "execution_count": null,
   "id": "495361ca",
   "metadata": {},
   "outputs": [],
   "source": [
    "driver.get('https://www.twitter.com/login')\n",
    "sleep(2)\n",
    "\n",
    "username = driver.find_element_by_xpath('//input[@name=\"session[username_or_email]\"]')\n",
    "username.send_keys('dyingrabbit_') # Ubah username sesuai akun pribadi\n",
    "\n",
    "my_password = getpass()\n",
    "\n",
    "password = driver.find_element_by_xpath('//input[@name=\"session[password]\"]')\n",
    "password.send_keys(my_password)\n",
    "password.send_keys(Keys.RETURN)"
   ]
  },
  {
   "cell_type": "code",
   "execution_count": null,
   "id": "133fa1f3",
   "metadata": {},
   "outputs": [],
   "source": [
    "data_tweets = df[['tweet','mentions','replies_count','retweets_count','likes_count','hashtags','reply_to','link']]"
   ]
  },
  {
   "cell_type": "code",
   "execution_count": null,
   "id": "2bb6b430",
   "metadata": {},
   "outputs": [],
   "source": [
    "def get_list_likes(link):\n",
    "    list_likes = []\n",
    "    driver.get(link + '/likes')#open link\n",
    "    sleep(5) #jeda waktu\n",
    "    \n",
    "    #scroll to bottom\n",
    "    driver.execute_script(\"window.scrollTo(0, document.body.scrollHeight);\")\n",
    "    sleep(2)\n",
    "    \n",
    "    try:\n",
    "        likes_container = driver.find_element_by_xpath('//div[@aria-label=\"Timeline: Liked by\"]') #element dasar likes\n",
    "        if likes_container: #jika ada maka\n",
    "            likes = likes_container.find_elements_by_xpath('//div[@dir=\"ltr\"]/span[@class=\"css-901oao css-16my406 r-poiln3 r-bcqeeo r-qvutc0\"]')\n",
    "            for like in likes:\n",
    "                list_likes.append(like.text)\n",
    "    except:\n",
    "        print(list_likes)\n",
    "        return list_likes\n",
    "    print(list_likes)\n",
    "    return list_likes\n",
    "\n",
    "\n",
    "\n",
    "def get_list_retweets(link):\n",
    "    list_retweets = []\n",
    "    driver.get(link + '/retweets') #open link\n",
    "    sleep(5)#jeda waktu\n",
    "    \n",
    "    #scroll to bottom\n",
    "    driver.execute_script(\"window.scrollTo(0, document.body.scrollHeight);\")\n",
    "    sleep(2)\n",
    "    \n",
    "    try:\n",
    "        retweets_container = driver.find_element_by_xpath('//div[@aria-label=\"Timeline: Retweeted by\"]')\n",
    "        if retweets_container:\n",
    "            retweets = retweets_container.find_elements_by_xpath('//div[@dir=\"ltr\"]/span[@class=\"css-901oao css-16my406 r-poiln3 r-bcqeeo r-qvutc0\"]')\n",
    "            for retweet in retweets:\n",
    "                list_retweets.append(retweet.text)\n",
    "    except:\n",
    "        pass\n",
    "    print(list_retweets)\n",
    "    return list_retweets\n",
    "\n",
    "def get_list_replies(link):\n",
    "    list_replies = []\n",
    "    driver.get(link)\n",
    "    sleep(5)\n",
    "    \n",
    "    driver.execute_script(\"window.scrollTo(0, document.body.scrollHeight);\")\n",
    "    sleep(2)\n",
    "    \n",
    "    try:\n",
    "        replies_container = driver.find_element_by_xpath('//div[@aria-label=\"Timeline: Conversation\"]')\n",
    "        if replies_container:\n",
    "            replies = replies_container.find_elements_by_xpath('//div[@dir=\"ltr\"]/span[@class=\"css-901oao css-16my406 r-poiln3 r-bcqeeo r-qvutc0\"]')\n",
    "            for reply in replies:\n",
    "                list_replies.append(reply.text)\n",
    "    except:\n",
    "        print(list_replies)\n",
    "        return list_replies\n",
    "    print(list_replies)\n",
    "    return list_replies"
   ]
  },
  {
   "cell_type": "code",
   "execution_count": null,
   "id": "d457c36a",
   "metadata": {},
   "outputs": [],
   "source": [
    "arr_temp = []\n",
    "for i, row in data_tweets.iterrows():\n",
    "     arr_temp.append(get_list_likes(row['link']))   \n",
    "\n",
    "data_tweets['list_likes'] = arr_temp\n",
    "data_tweets['list_likes']"
   ]
  },
  {
   "cell_type": "code",
   "execution_count": null,
   "id": "bf02904f",
   "metadata": {},
   "outputs": [],
   "source": [
    "arr_temp = []\n",
    "for i, row in data_tweets.iterrows():\n",
    "     arr_temp.append(get_list_retweets(row['link']))\n",
    "\n",
    "data_tweets['list_retweets'] = arr_temp\n",
    "data_tweets['list_retweets']"
   ]
  },
  {
   "cell_type": "code",
   "execution_count": null,
   "id": "6bb04c06",
   "metadata": {},
   "outputs": [],
   "source": [
    "arr_temp = []\n",
    "for i, row in data_tweets.iterrows():\n",
    "     arr_temp.append(get_list_replies(row['link']))\n",
    "\n",
    "data_tweets['list_replies'] = arr_temp\n",
    "data_tweets['list_replies']"
   ]
  },
  {
   "cell_type": "code",
   "execution_count": null,
   "id": "36c0822a",
   "metadata": {},
   "outputs": [],
   "source": [
    " data_tweets.to_json('data/Scraping.json')"
   ]
  },
  {
   "cell_type": "code",
   "execution_count": null,
   "id": "ad97ce7c",
   "metadata": {},
   "outputs": [],
   "source": [
    "!{sys.executable} -m pip install matplotlib\n",
    "!{sys.executable} -m pip install scipy"
   ]
  },
  {
   "cell_type": "code",
   "execution_count": null,
   "id": "c24471e1",
   "metadata": {},
   "outputs": [],
   "source": [
    "twt_df = pd.read_json('data/Scraping.json')\n",
    "twt_df.head()"
   ]
  },
  {
   "cell_type": "code",
   "execution_count": null,
   "id": "83869115",
   "metadata": {},
   "outputs": [],
   "source": [
    "arr_tmp = []\n",
    "for i,row in twt_df.iterrows():\n",
    "    liker = row['list_likes']\n",
    "    idx = -1\n",
    "    for like in liker:\n",
    "        idx+=1\n",
    "        if(like==''):\n",
    "            break\n",
    "    arr_tmp.append(liker[:idx])\n",
    "    \n",
    "arr_tmp\n",
    "twt_df['list_likes'] = arr_tmp\n",
    "twt_df"
   ]
  },
  {
   "cell_type": "code",
   "execution_count": null,
   "id": "832c5faf",
   "metadata": {},
   "outputs": [],
   "source": [
    "arr_tmp = []\n",
    "for i,row in twt_df.iterrows():\n",
    "    rts = row['list_retweets']\n",
    "    idx = -1\n",
    "    for rt in rts:\n",
    "        idx+=1\n",
    "        if(rt==''):\n",
    "            break\n",
    "    arr_tmp.append(rts[:idx])\n",
    "    \n",
    "arr_tmp\n",
    "twt_df['list_retweets'] = arr_tmp\n",
    "twt_df"
   ]
  },
  {
   "cell_type": "code",
   "execution_count": null,
   "id": "0a89f717",
   "metadata": {},
   "outputs": [],
   "source": [
    "arr_tmp = []\n",
    "for i,row in twt_df.iterrows():\n",
    "    reps = row['list_replies']\n",
    "    if '@infojakarta' in reps:\n",
    "        reps.remove('@infojakarta')\n",
    "    arr_tmp.append(reps)\n",
    "    \n",
    "twt_df['list_replies'] = arr_tmp\n",
    "twt_df"
   ]
  },
  {
   "cell_type": "code",
   "execution_count": null,
   "id": "47057fbd",
   "metadata": {},
   "outputs": [],
   "source": [
    " twt_df.to_json('data/Scraping-clean.json')"
   ]
  },
  {
   "cell_type": "code",
   "execution_count": null,
   "id": "8ea904a0",
   "metadata": {},
   "outputs": [],
   "source": [
    "twt_df = pd.read_json('data/Scraping-clean.json')"
   ]
  },
  {
   "cell_type": "code",
   "execution_count": null,
   "id": "6894b4c9",
   "metadata": {},
   "outputs": [],
   "source": [
    "def draw(G, pos, measures, measure_name, graph_name):\n",
    "    plt.figure(figsize=(20,20))\n",
    "    ax = plt.gca()\n",
    "    nodes = nx.draw_networkx_nodes(G, pos, node_size=250, cmap=plt.cm.plasma, \n",
    "                                   node_color=list(measures.values()),\n",
    "                                   nodelist=measures.keys(), ax=ax)\n",
    "    nodes.set_norm(mcolors.SymLogNorm(linthresh=0.01, linscale=1, base=10))\n",
    "#     labels = nx.draw_networkx_labels(G, pos)\n",
    "    edges = nx.draw_networkx_edges(G, pos, ax=ax)\n",
    "\n",
    "    plt.title(measure_name)\n",
    "    plt.colorbar(nodes)\n",
    "    plt.axis('off')\n",
    "    plt.savefig(graph_name, format='png')\n",
    "    plt.show()"
   ]
  },
  {
   "cell_type": "code",
   "execution_count": null,
   "id": "d39dbfe1",
   "metadata": {},
   "outputs": [],
   "source": [
    "G = nx.Graph()\n",
    "for i,row in twt_df.iterrows():\n",
    "    for rep in row['list_replies']:\n",
    "        G.add_edge(row['tweet'], rep)"
   ]
  },
  {
   "cell_type": "code",
   "execution_count": null,
   "id": "7e3cebf8",
   "metadata": {},
   "outputs": [],
   "source": [
    "centrality = nx.degree_centrality(G)\n",
    "for key in centrality:\n",
    "    print(key, ' : ', centrality[key])"
   ]
  },
  {
   "cell_type": "code",
   "execution_count": null,
   "id": "e3f82083",
   "metadata": {},
   "outputs": [],
   "source": [
    "draw(G, nx.spring_layout(G, k=0.05, iterations=20), nx.degree_centrality(G), 'Replies Degree Centrality', 'replies.png')"
   ]
  },
  {
   "cell_type": "code",
   "execution_count": null,
   "id": "d667a730",
   "metadata": {},
   "outputs": [],
   "source": [
    "H = nx.Graph()\n",
    "for i,row in twt_df.iterrows():\n",
    "    for like in row['list_likes']:\n",
    "        H.add_edge(row['tweet'], like)"
   ]
  },
  {
   "cell_type": "code",
   "execution_count": null,
   "id": "1893e17c",
   "metadata": {},
   "outputs": [],
   "source": [
    "centrality = nx.degree_centrality(H)\n",
    "for key in centrality:\n",
    "    print(key, ' : ', centrality[key])"
   ]
  },
  {
   "cell_type": "code",
   "execution_count": null,
   "id": "3bbcf767",
   "metadata": {},
   "outputs": [],
   "source": [
    "draw(H, nx.spring_layout(H, k=0.05, iterations=20), nx.degree_centrality(H), 'Likes Degree Centrality', 'likes.png')"
   ]
  },
  {
   "cell_type": "code",
   "execution_count": null,
   "id": "8e646d1f",
   "metadata": {},
   "outputs": [],
   "source": [
    "K = nx.Graph()\n",
    "for i,row in twt_df.iterrows():\n",
    "    for rt in row['list_retweets']:\n",
    "        K.add_edge(row['tweet'], rt)"
   ]
  },
  {
   "cell_type": "code",
   "execution_count": null,
   "id": "7956b9fe",
   "metadata": {},
   "outputs": [],
   "source": [
    "centrality = nx.degree_centrality(K)\n",
    "for key in centrality:\n",
    "    print(key, ' : ', centrality[key])"
   ]
  },
  {
   "cell_type": "code",
   "execution_count": null,
   "id": "579ff8c1",
   "metadata": {},
   "outputs": [],
   "source": [
    "draw(K, nx.spring_layout(K, k=0.05, iterations=20), nx.degree_centrality(K), 'Retweets Degree Centrality','rt.png')"
   ]
  },
  {
   "cell_type": "code",
   "execution_count": null,
   "id": "7819b495",
   "metadata": {},
   "outputs": [],
   "source": []
  }
 ],
 "metadata": {
  "kernelspec": {
   "display_name": "Python 3",
   "language": "python",
   "name": "python3"
  },
  "language_info": {
   "codemirror_mode": {
    "name": "ipython",
    "version": 3
   },
   "file_extension": ".py",
   "mimetype": "text/x-python",
   "name": "python",
   "nbconvert_exporter": "python",
   "pygments_lexer": "ipython3",
   "version": "3.8.5"
  }
 },
 "nbformat": 4,
 "nbformat_minor": 5
}
