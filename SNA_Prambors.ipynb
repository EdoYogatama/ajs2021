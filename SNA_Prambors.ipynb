{
 "cells": [
  {
   "cell_type": "code",
   "execution_count": null,
   "id": "68841693",
   "metadata": {},
   "outputs": [],
   "source": [
    "import twint\n",
    "import nest_asyncio\n",
    "import pandas as pd\n",
    "import json\n",
    "import networkx as nx\n",
    "import matplotlib.pyplot as plt\n",
    "import matplotlib.colors as mcolors\n",
    "\n",
    "nest_asyncio.apply()"
   ]
  },
  {
   "cell_type": "markdown",
   "id": "d469294f",
   "metadata": {},
   "source": [
    "### Before"
   ]
  },
  {
   "cell_type": "code",
   "execution_count": null,
   "id": "afdbbec4",
   "metadata": {},
   "outputs": [],
   "source": [
    "c = twint.Config()\n",
    "c.Username = 'Prambors'\n",
    "c.Since = \"2020-08-01\" #batas awal tanggal pengambilan tweet\n",
    "c.Until = \"2021-01-31\" #batas akhir tanggal pengambilan tweet\n",
    "c.Search = \"covid OR vaksin\"\n",
    "c.Count = True         \n",
    "c.Retweets = True\n",
    "c.Stats = True \n",
    "c.Show_hashtags = True\n",
    "c.Hide_output = True\n",
    "c.Profile_full = True\n",
    "c.Store_json = True\n",
    "c.Output = './prambors/before.json' # save to json\n",
    "twint.run.Search(c)"
   ]
  },
  {
   "cell_type": "markdown",
   "id": "2011c491",
   "metadata": {},
   "source": [
    "### After"
   ]
  },
  {
   "cell_type": "code",
   "execution_count": null,
   "id": "5d4042b1",
   "metadata": {},
   "outputs": [],
   "source": [
    "c = twint.Config()\n",
    "c.Username = 'Prambors'\n",
    "c.Since = \"2021-02-01\" #batas awal tanggal pengambilan tweet\n",
    "c.Search = \"covid OR vaksin\"\n",
    "c.Count = True         \n",
    "c.Retweets = True\n",
    "c.Stats = True \n",
    "c.Show_hashtags = True\n",
    "c.Hide_output = True\n",
    "c.Profile_full = True\n",
    "c.Store_json = True\n",
    "c.Output = './prambors/after.json' # save to json\n",
    "twint.run.Search(c)"
   ]
  },
  {
   "cell_type": "code",
   "execution_count": null,
   "id": "3264b15f",
   "metadata": {},
   "outputs": [],
   "source": [
    "df_before = pd.read_json('./prambors/before.json' , lines = True)\n",
    "df_after = pd.read_json('./prambors/after.json' , lines = True)"
   ]
  },
  {
   "cell_type": "code",
   "execution_count": null,
   "id": "9b494c8f",
   "metadata": {},
   "outputs": [],
   "source": [
    "# df_before.duplicated()\n",
    "df_before = df_before[['id', 'conversation_id', 'user_id', 'username', 'name','tweet','replies_count', 'retweets_count', 'likes_count',\n",
    "       'hashtags', 'cashtags', 'link', 'retweet', 'quote_url','user_rt_id', 'user_rt', 'retweet_id', 'reply_to']]\n",
    "\n",
    "df_before = df_before.drop_duplicates(subset='link')\n",
    "df_before"
   ]
  },
  {
   "cell_type": "code",
   "execution_count": null,
   "id": "0aa47c87",
   "metadata": {},
   "outputs": [],
   "source": [
    "from getpass import getpass\n",
    "from time import sleep\n",
    "from selenium.webdriver.common.keys import Keys\n",
    "# from selenium.common.exceptions import NoSuchElementException\n",
    "from selenium import webdriver\n",
    "import numpy as np\n",
    "from datetime import datetime, timedelta"
   ]
  },
  {
   "cell_type": "code",
   "execution_count": null,
   "id": "5b0a2651",
   "metadata": {},
   "outputs": [],
   "source": [
    "chrome_options = webdriver.ChromeOptions()\n",
    "prefs = {\"profile.default_content_setting_values.notifications\" : 2}\n",
    "chrome_options.add_experimental_option(\"prefs\",prefs)\n",
    "# chrome_options.add_argument('headless') # untuk menutup browser\n",
    "\n",
    "#specify the path to chromedriver.exe\n",
    "driver = webdriver.Chrome('./chromedriver',chrome_options=chrome_options)"
   ]
  },
  {
   "cell_type": "code",
   "execution_count": null,
   "id": "86b45895",
   "metadata": {},
   "outputs": [],
   "source": [
    "driver.get('https://www.twitter.com/login')\n",
    "sleep(2)\n",
    "\n",
    "username = driver.find_element_by_xpath('//input[@name=\"session[username_or_email]\"]')\n",
    "username.send_keys('dyingrabbit_') # Ubah username sesuai akun pribadi\n",
    "\n",
    "my_password = getpass()\n",
    "\n",
    "password = driver.find_element_by_xpath('//input[@name=\"session[password]\"]')\n",
    "password.send_keys(my_password)\n",
    "password.send_keys(Keys.RETURN)"
   ]
  },
  {
   "cell_type": "code",
   "execution_count": null,
   "id": "995fad99",
   "metadata": {},
   "outputs": [],
   "source": [
    "data_tweets_before = df_before"
   ]
  },
  {
   "cell_type": "code",
   "execution_count": null,
   "id": "fafb6129",
   "metadata": {},
   "outputs": [],
   "source": [
    "def get_list_replies(link):\n",
    "    list_replies = []\n",
    "    driver.get(link)\n",
    "    sleep(2)\n",
    "    \n",
    "    driver.execute_script(\"window.scrollTo(0, document.body.scrollHeight);\")\n",
    "    sleep(2)\n",
    "    \n",
    "    try:\n",
    "        replies_container = driver.find_element_by_xpath('//div[@aria-label=\"Timeline: Conversation\"]')\n",
    "        if replies_container:\n",
    "            replies = replies_container.find_elements_by_xpath('.//div[@dir=\"ltr\"]/span')\n",
    "            for reply in replies:\n",
    "                list_replies.append(reply.text)\n",
    "    except:\n",
    "        print(list_replies)\n",
    "        return list_replies\n",
    "    print(list_replies)\n",
    "    return list_replies"
   ]
  },
  {
   "cell_type": "code",
   "execution_count": null,
   "id": "f1f18f1c",
   "metadata": {},
   "outputs": [],
   "source": [
    "arr_temp = []\n",
    "for i, row in data_tweets_before.iterrows():\n",
    "    print(i)\n",
    "    arr_temp.append(get_list_replies(row['link']))\n",
    "\n",
    "data_tweets_before['list_replies'] = arr_temp"
   ]
  },
  {
   "cell_type": "code",
   "execution_count": null,
   "id": "7c48408b",
   "metadata": {},
   "outputs": [],
   "source": [
    "data_tweets_before.to_json('./prambors/before_replies.json')"
   ]
  },
  {
   "cell_type": "code",
   "execution_count": null,
   "id": "074335e6",
   "metadata": {},
   "outputs": [],
   "source": [
    "data_tweets_before = pd.read_json('./prambors/before_replies.json')\n",
    "data_tweets_before"
   ]
  },
  {
   "cell_type": "code",
   "execution_count": null,
   "id": "1f0f6b66",
   "metadata": {},
   "outputs": [],
   "source": [
    "arr = []\n",
    "for i in data_tweets_before['list_replies']:\n",
    "    for x in i:\n",
    "        arr.append(x)\n",
    "arr = list(set(arr))\n",
    "\n",
    "prefix = '@'\n",
    "arr = [i for i in arr if prefix in i]\n",
    "arr = list(set(arr))\n",
    "arr.remove('@Prambors')\n",
    "arr.remove('@___bacot')\n",
    "print(len(arr))\n",
    "arr"
   ]
  },
  {
   "cell_type": "code",
   "execution_count": null,
   "id": "cd33c443",
   "metadata": {},
   "outputs": [],
   "source": [
    "filename = './prambors/before_user_data.json'\n",
    "i = 1\n",
    "for uname in arr:\n",
    "    uname = uname[1:]\n",
    "    print(i, uname)\n",
    "    i = i+1\n",
    "    c = twint.Config()\n",
    "    c.Username = uname\n",
    "    c.Since = \"2020-08-01\" #batas awal tanggal pengambilan tweet\n",
    "    c.Until = \"2021-01-31\" #batas akhir tanggal pengambilan tweet\n",
    "    c.Search = \"covid OR vaksin\"\n",
    "    c.Count = True         \n",
    "    c.Retweets = True\n",
    "    c.Stats = True \n",
    "    c.Show_hashtags = True\n",
    "    c.Hide_output = True\n",
    "    c.Profile_full = True\n",
    "    c.Store_json = True\n",
    "    c.Output = filename # save to json\n",
    "    twint.run.Search(c)"
   ]
  },
  {
   "cell_type": "code",
   "execution_count": null,
   "id": "dc029692",
   "metadata": {},
   "outputs": [],
   "source": [
    "before_user_data_tweets = pd.read_json('./prambors/before_user_data.json', lines = True)\n",
    "before_user_data_tweets = before_user_data_tweets[['id', 'conversation_id', 'user_id', 'username', 'name','tweet','replies_count', 'retweets_count', 'likes_count',\n",
    "       'hashtags', 'cashtags', 'link', 'retweet', 'quote_url','user_rt_id', 'user_rt', 'retweet_id', 'reply_to']]\n",
    "\n",
    "before_user_data_tweets = before_user_data_tweets.drop_duplicates(subset='link')\n",
    "for i in before_user_data_tweets['link']:\n",
    "    print(i)"
   ]
  },
  {
   "cell_type": "code",
   "execution_count": null,
   "id": "5c14e26f",
   "metadata": {},
   "outputs": [],
   "source": [
    "arr_temp = []\n",
    "for i, row in before_user_data_tweets.iterrows():\n",
    "     arr_temp.append(get_list_replies(row['link']))\n",
    "\n",
    "before_user_data_tweets['list_replies'] = arr_temp\n",
    "before_user_data_tweets['list_replies']"
   ]
  },
  {
   "cell_type": "code",
   "execution_count": null,
   "id": "3fb2f151",
   "metadata": {},
   "outputs": [],
   "source": [
    "before_user_data_tweets.to_json('./data/before_user_scrap.json')"
   ]
  },
  {
   "cell_type": "markdown",
   "id": "83aef13a",
   "metadata": {},
   "source": [
    "### SCRAPPING AFTER DATA"
   ]
  },
  {
   "cell_type": "code",
   "execution_count": null,
   "id": "82b512e7",
   "metadata": {},
   "outputs": [],
   "source": [
    "df_after = pd.read_json('./prambors/after.json' , lines = True)\n",
    "df_after = df_after[['id', 'conversation_id', 'user_id', 'username', 'name','tweet','replies_count', 'retweets_count', 'likes_count',\n",
    "       'hashtags', 'cashtags', 'link', 'retweet', 'quote_url','user_rt_id', 'user_rt', 'retweet_id', 'reply_to']]\n",
    "\n",
    "df_after = df_after.drop_duplicates(subset='link')\n",
    "for i in df_after['link']:\n",
    "    print(i)"
   ]
  },
  {
   "cell_type": "code",
   "execution_count": null,
   "id": "2c5647fc",
   "metadata": {},
   "outputs": [],
   "source": [
    "data_tweets_after = df_after"
   ]
  },
  {
   "cell_type": "code",
   "execution_count": null,
   "id": "b5dd4496",
   "metadata": {},
   "outputs": [],
   "source": [
    "arr_temp = []\n",
    "for i, row in data_tweets_after.iterrows():\n",
    "     arr_temp.append(get_list_replies(row['link']))\n",
    "\n",
    "data_tweets_after['list_replies'] = arr_temp\n",
    "data_tweets_after['list_replies']"
   ]
  },
  {
   "cell_type": "code",
   "execution_count": null,
   "id": "e5fecedd",
   "metadata": {},
   "outputs": [],
   "source": [
    "data_tweets_after.to_json('./prambors/after_replies.json')"
   ]
  },
  {
   "cell_type": "code",
   "execution_count": null,
   "id": "9954e044",
   "metadata": {},
   "outputs": [],
   "source": [
    "data_tweets_after = pd.read_json('./prambors/after_replies.json')\n",
    "data_tweets_after"
   ]
  },
  {
   "cell_type": "code",
   "execution_count": null,
   "id": "77963036",
   "metadata": {},
   "outputs": [],
   "source": [
    "arr = []\n",
    "for i in data_tweets_after['list_replies']:\n",
    "    for x in i:\n",
    "        arr.append(x)\n",
    "arr = list(set(arr))\n",
    "\n",
    "prefix = '@'\n",
    "arr = [i for i in arr if prefix in i]\n",
    "arr = list(set(arr))\n",
    "arr.remove('@Prambors')\n",
    "print(len(arr))\n",
    "arr"
   ]
  },
  {
   "cell_type": "code",
   "execution_count": null,
   "id": "caedd42b",
   "metadata": {},
   "outputs": [],
   "source": [
    "filename = './prambors/after_user_data.json'\n",
    "for uname in arr:\n",
    "    uname = uname[1:]\n",
    "    c = twint.Config()\n",
    "    c.Username = uname\n",
    "    c.Since = \"2021-02-01\" #batas awal tanggal pengambilan tweet\n",
    "#     c.Until = \"2021-01-31\" #batas akhir tanggal pengambilan tweet\n",
    "    c.Search = \"covid OR vaksin\"\n",
    "    c.Count = True         \n",
    "    c.Retweets = True\n",
    "    c.Stats = True \n",
    "    c.Show_hashtags = True\n",
    "    c.Hide_output = True\n",
    "    c.Profile_full = True\n",
    "    c.Store_json = True\n",
    "    c.Output = filename # save to json\n",
    "    twint.run.Search(c)"
   ]
  },
  {
   "cell_type": "code",
   "execution_count": null,
   "id": "c8f0795d",
   "metadata": {},
   "outputs": [],
   "source": [
    "after_user_data_tweets = pd.read_json('./prambors/after_user_data.json', lines = True)\n",
    "after_user_data_tweets = after_user_data_tweets[['id', 'conversation_id', 'user_id', 'username', 'name','tweet','replies_count', 'retweets_count', 'likes_count',\n",
    "       'hashtags', 'cashtags', 'link', 'retweet', 'quote_url','user_rt_id', 'user_rt', 'retweet_id', 'reply_to']]\n",
    "\n",
    "after_user_data_tweets = after_user_data_tweets.drop_duplicates(subset='link')\n",
    "for i in after_user_data_tweets['link']:\n",
    "    print(i)"
   ]
  },
  {
   "cell_type": "code",
   "execution_count": null,
   "id": "5cfc4845",
   "metadata": {},
   "outputs": [],
   "source": [
    "arr_temp = []\n",
    "for i, row in after_user_data_tweets.iterrows():\n",
    "     arr_temp.append(get_list_replies(row['link']))\n",
    "\n",
    "after_user_data_tweets['list_replies'] = arr_temp\n",
    "after_user_data_tweets['list_replies']"
   ]
  },
  {
   "cell_type": "code",
   "execution_count": null,
   "id": "4b42ff4e",
   "metadata": {},
   "outputs": [],
   "source": [
    "after_user_data_tweets.to_json('./prambors/after_user_scrap.json')"
   ]
  },
  {
   "cell_type": "code",
   "execution_count": null,
   "id": "55bc7996",
   "metadata": {},
   "outputs": [],
   "source": [
    "after_user_data_tweets = pd.read_json('./prambors/after_user_scrap.json')\n",
    "after_user_data_tweets.columns"
   ]
  },
  {
   "cell_type": "code",
   "execution_count": null,
   "id": "75050799",
   "metadata": {},
   "outputs": [],
   "source": [
    "arr = []\n",
    "for i in after_user_data_tweets['list_replies']:\n",
    "    for x in i:\n",
    "        arr.append(x)\n",
    "arr = list(set(arr))\n",
    "\n",
    "prefix = '@'\n",
    "arr = [i for i in arr if prefix in i]\n",
    "arr = list(set(arr))\n",
    "print(len(arr))\n",
    "arr"
   ]
  },
  {
   "cell_type": "code",
   "execution_count": null,
   "id": "dbb08f21",
   "metadata": {},
   "outputs": [],
   "source": []
  }
 ],
 "metadata": {
  "kernelspec": {
   "display_name": "Python 3",
   "language": "python",
   "name": "python3"
  },
  "language_info": {
   "codemirror_mode": {
    "name": "ipython",
    "version": 3
   },
   "file_extension": ".py",
   "mimetype": "text/x-python",
   "name": "python",
   "nbconvert_exporter": "python",
   "pygments_lexer": "ipython3",
   "version": "3.8.5"
  }
 },
 "nbformat": 4,
 "nbformat_minor": 5
}
